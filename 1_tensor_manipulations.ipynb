{
  "nbformat": 4,
  "nbformat_minor": 0,
  "metadata": {
    "colab": {
      "provenance": []
    },
    "kernelspec": {
      "name": "python3",
      "display_name": "Python 3"
    },
    "language_info": {
      "name": "python"
    }
  },
  "cells": [
    {
      "cell_type": "code",
      "execution_count": 1,
      "metadata": {
        "colab": {
          "base_uri": "https://localhost:8080/"
        },
        "id": "DUQIH8w33ViY",
        "outputId": "4703af68-8638-4762-d24a-2449f511ba6d"
      },
      "outputs": [
        {
          "output_type": "stream",
          "name": "stdout",
          "text": [
            "Original Tensor:\n",
            "[[0.9686786  0.4994763  0.58278835 0.5803019  0.437719   0.51985025]\n",
            " [0.27237284 0.07922673 0.55242586 0.6016995  0.15000308 0.939852  ]\n",
            " [0.05726433 0.08325231 0.19776595 0.9885576  0.2863493  0.6743171 ]\n",
            " [0.34628308 0.9152596  0.79483914 0.14914095 0.61018014 0.2093072 ]]\n",
            "Original Rank: 2, Shape: (4, 6)\n",
            "\n",
            "Reshaped Tensor Shape: (2, 3, 4), Rank: 3\n",
            "Transposed Tensor Shape: (3, 2, 4), Rank: 3\n",
            "\n",
            "Smaller Tensor (1, 4):\n",
            "[[0.25648355 0.58807635 0.18063605 0.58186805]]\n",
            "Broadcasted Addition Result Shape: (2, 3, 4)\n",
            "\n",
            "Broadcasting in TensorFlow allows arithmetic operations between tensors of different shapes by automatically expanding the smaller tensor to match the shape of the larger tensor.\n",
            "For example, adding a (1, 4) tensor to a (2, 3, 4) tensor works because TensorFlow expands the smaller tensor along dimensions where it has size 1, effectively making it (2, 3, 4).\n",
            "\n"
          ]
        }
      ],
      "source": [
        "import tensorflow as tf\n",
        "\n",
        "# Step 1: Create a random tensor of shape (4, 6)\n",
        "tensor = tf.random.uniform(shape=(4, 6), dtype=tf.float32)\n",
        "\n",
        "# Step 2: Find rank and shape of the original tensor\n",
        "rank = tf.rank(tensor)\n",
        "shape = tensor.shape\n",
        "\n",
        "print(f\"Original Tensor:\\n{tensor.numpy()}\")\n",
        "print(f\"Original Rank: {rank.numpy()}, Shape: {shape}\")\n",
        "\n",
        "# Step 3: Reshape into (2, 3, 4)\n",
        "reshaped_tensor = tf.reshape(tensor, (2, 3, 4))\n",
        "reshaped_rank = tf.rank(reshaped_tensor)\n",
        "print(f\"\\nReshaped Tensor Shape: {reshaped_tensor.shape}, Rank: {reshaped_rank.numpy()}\")\n",
        "\n",
        "# Step 4: Transpose into (3, 2, 4)\n",
        "transposed_tensor = tf.transpose(reshaped_tensor, perm=[1, 0, 2])\n",
        "transposed_rank = tf.rank(transposed_tensor)\n",
        "print(f\"Transposed Tensor Shape: {transposed_tensor.shape}, Rank: {transposed_rank.numpy()}\")\n",
        "\n",
        "# Step 5: Broadcasting - Create a smaller tensor of shape (1, 4)\n",
        "small_tensor = tf.random.uniform(shape=(1, 4), dtype=tf.float32)\n",
        "\n",
        "# Broadcast and add to the larger tensor (reshaped_tensor of shape (2, 3, 4))\n",
        "broadcasted_addition = reshaped_tensor + small_tensor\n",
        "\n",
        "print(f\"\\nSmaller Tensor (1, 4):\\n{small_tensor.numpy()}\")\n",
        "print(f\"Broadcasted Addition Result Shape: {broadcasted_addition.shape}\")\n",
        "\n",
        "# Explanation of Broadcasting in TensorFlow:\n",
        "explanation = \"\"\"\n",
        "Broadcasting in TensorFlow allows arithmetic operations between tensors of different shapes by automatically expanding the smaller tensor to match the shape of the larger tensor.\n",
        "For example, adding a (1, 4) tensor to a (2, 3, 4) tensor works because TensorFlow expands the smaller tensor along dimensions where it has size 1, effectively making it (2, 3, 4).\n",
        "\"\"\"\n",
        "print(explanation)\n"
      ]
    },
    {
      "cell_type": "code",
      "source": [],
      "metadata": {
        "id": "PjMGDB7W34rU"
      },
      "execution_count": null,
      "outputs": []
    }
  ]
}